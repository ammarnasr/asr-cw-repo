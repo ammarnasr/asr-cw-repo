{
 "cells": [
  {
   "cell_type": "markdown",
   "metadata": {
    "tags": []
   },
   "source": [
    "# =================================================="
   ]
  },
  {
   "cell_type": "markdown",
   "metadata": {},
   "source": [
    "# Task 3"
   ]
  },
  {
   "cell_type": "code",
   "execution_count": 1,
   "metadata": {
    "tags": []
   },
   "outputs": [
    {
     "name": "stderr",
     "output_type": "stream",
     "text": [
      " 85%|████████████████████████████████▏     | 269/318 [00:00<00:00, 15795.43it/s]\n"
     ]
    }
   ],
   "source": [
    "### import os\n",
    "import wer\n",
    "import openfst_python as fst\n",
    "import glob\n",
    "import matplotlib.pyplot as plt\n",
    "from tqdm import tqdm\n",
    "import os\n",
    "from vetrbi import MyViterbiDecoder\n",
    "from utils import parse_lexicon, generate_symbol_tables\n",
    "from hmm import generate_word_sequence_recognition_wfst\n",
    "from hmm import generate_word_sequence_recognition_wfst_with_silance\n",
    "from utils import draw\n",
    "import numpy as np\n",
    "import pickle\n",
    "\n",
    "def create_wfst():\n",
    "    f = generate_word_sequence_recognition_wfst(3)\n",
    "    f.set_input_symbols(state_table)\n",
    "    f.set_output_symbols(phone_table)\n",
    "    return f\n",
    "\n",
    "def create_wfst_with_silance():\n",
    "    f = generate_word_sequence_recognition_wfst_with_silance(3, use_unigram_probs=False)\n",
    "    f.set_input_symbols(state_table)\n",
    "    f.set_output_symbols(phone_table)\n",
    "    return f\n",
    "\n",
    "def create_lexical():\n",
    "    f = generate_lexical_hmm(1, use_unigram_probs=False)\n",
    "    f.set_input_symbols(state_table)\n",
    "    f.set_output_symbols(phone_table)\n",
    "    return f\n",
    "\n",
    "def read_transcription(wav_file):\n",
    "    \"\"\"\n",
    "    Get the transcription corresponding to wav_file.\n",
    "    \"\"\"\n",
    "    \n",
    "    transcription_file = os.path.splitext(wav_file)[0] + '.txt'\n",
    "    \n",
    "    with open(transcription_file, 'r') as f:\n",
    "        transcription = f.readline().strip()\n",
    "    \n",
    "    return transcription\n",
    "\n",
    "def memory_of_wfst(f):\n",
    "    '''\n",
    "    Compute a measure of the memory required for your decoder by providing counts\n",
    "    of number of states and arcs in the WFST.\n",
    "    '''\n",
    "    all_states = []\n",
    "    all_arcs = []\n",
    "    for state in f.states():\n",
    "        all_states.append(state)\n",
    "        for arc in f.arcs(state):\n",
    "            all_arcs.append(arc)\n",
    "    return len(all_states), len(all_arcs)\n",
    "    \n",
    "def get_avg_wer(all_losses, verbose=False):\n",
    "    all_wer = []\n",
    "    for error_counts, word_count in all_losses:\n",
    "        all_wer.append(sum(error_counts) / word_count)\n",
    "    \n",
    "    if verbose :\n",
    "        print(f'The average WER is {np.mean(all_wer):.2%}')    \n",
    "    return np.mean(all_wer)\n",
    "\n",
    "def get_avg_effciency(efficancy_measures, verbose=False):\n",
    "    decoding_time = np.mean(efficancy_measures[0])\n",
    "    backtrace_time = np.mean(efficancy_measures[1])\n",
    "    number_of_computions = np.mean(efficancy_measures[2])\n",
    "    if verbose:\n",
    "        print(f'The average decoding time is {decoding_time:.2f} seconds')\n",
    "        print(f'The average backtrace time is {backtrace_time:.2f} seconds')\n",
    "        print(f'The average number of computations is {number_of_computions:.2f}')\n",
    "    return decoding_time, backtrace_time, number_of_computions\n",
    "\n",
    "\n",
    "def decoding_loop(f, train_set=True, train_split=0.85, use_pruning=False, determinized=False, verbose=False, prune_threshold= None, histogram_pruning_threshold = 0):\n",
    "    all_losses = []\n",
    "    decoding_time = []\n",
    "    backtrace_time = []\n",
    "    number_of_computations = []\n",
    "    all_files = glob.glob('/group/teaching/asr/labs/recordings/*.wav')\n",
    "    train_files = all_files[:(int(train_split*len(all_files)))]\n",
    "    test_files = all_files[(int(train_split*len(all_files))):]\n",
    "    \n",
    "    if train_set:\n",
    "        files= train_files\n",
    "    else:\n",
    "        files = test_files\n",
    "    \n",
    "    for wav_file in tqdm(files):    \n",
    "        decoder  = MyViterbiDecoder(f, wav_file, verbose=verbose, use_pruning=use_pruning, determinized=determinized, histogram_pruning_threshold=histogram_pruning_threshold)\n",
    "        if use_pruning and prune_threshold!=None:\n",
    "            decoder.prune_threshold = prune_threshold\n",
    "        decoder.decode()\n",
    "        (state_path, words) = decoder.backtrace()  \n",
    "        transcription = read_transcription(wav_file)\n",
    "        error_counts = wer.compute_alignment_errors(transcription, words)\n",
    "        word_count = len(transcription.split())\n",
    "\n",
    "        all_losses.append((error_counts, word_count))\n",
    "        decoding_time.append(decoder.decode_time)\n",
    "        backtrace_time.append(decoder.backtrace_time)\n",
    "        number_of_computations.append(decoder.number_of_computiations)\n",
    "        if verbose:\n",
    "            print(f'Transcription: {transcription} || Prediction: {words} || (nsub, ndel, nin) :{error_counts}')\n",
    "    \n",
    "    efficancy_measures = (decoding_time, backtrace_time, number_of_computations)\n",
    "    return all_losses, efficancy_measures\n",
    "\n",
    "\n",
    "lex = parse_lexicon('lexicon.txt')\n",
    "word_table, phone_table, state_table = generate_symbol_tables(lex)\n",
    "f = create_wfst()\n",
    "f_silence = create_wfst_with_silance()"
   ]
  },
  {
   "cell_type": "code",
   "execution_count": null,
   "metadata": {
    "tags": []
   },
   "outputs": [
    {
     "name": "stdout",
     "output_type": "stream",
     "text": [
      "Threshold = 10\n"
     ]
    },
    {
     "name": "stderr",
     "output_type": "stream",
     "text": [
      "100%|█████████████████████████████████████████| 159/159 [03:36<00:00,  1.36s/it]\n"
     ]
    },
    {
     "name": "stdout",
     "output_type": "stream",
     "text": [
      "The average WER is 100.84%\n",
      "\n",
      "\n",
      "\n",
      "\n",
      "saved to exp_dict_baseline_histogram_10.pkl\n",
      "Threshold = 20\n"
     ]
    },
    {
     "name": "stderr",
     "output_type": "stream",
     "text": [
      "100%|█████████████████████████████████████████| 159/159 [05:07<00:00,  1.94s/it]\n"
     ]
    },
    {
     "name": "stdout",
     "output_type": "stream",
     "text": [
      "The average WER is 235.69%\n",
      "\n",
      "\n",
      "\n",
      "\n",
      "saved to exp_dict_baseline_histogram_20.pkl\n",
      "Threshold = 30\n"
     ]
    },
    {
     "name": "stderr",
     "output_type": "stream",
     "text": [
      "100%|█████████████████████████████████████████| 159/159 [06:01<00:00,  2.27s/it]\n"
     ]
    },
    {
     "name": "stdout",
     "output_type": "stream",
     "text": [
      "The average WER is 134.03%\n",
      "\n",
      "\n",
      "\n",
      "\n",
      "saved to exp_dict_baseline_histogram_30.pkl\n",
      "Threshold = 40\n"
     ]
    },
    {
     "name": "stderr",
     "output_type": "stream",
     "text": [
      "100%|█████████████████████████████████████████| 159/159 [06:40<00:00,  2.52s/it]\n"
     ]
    },
    {
     "name": "stdout",
     "output_type": "stream",
     "text": [
      "The average WER is 173.89%\n",
      "\n",
      "\n",
      "\n",
      "\n",
      "saved to exp_dict_baseline_histogram_40.pkl\n",
      "Threshold = 50\n"
     ]
    },
    {
     "name": "stderr",
     "output_type": "stream",
     "text": [
      " 10%|████▏                                     | 16/159 [00:36<05:08,  2.16s/it]"
     ]
    }
   ],
   "source": [
    "exp_dict= {\n",
    "    'loss' : [],\n",
    "    'efficancy':[],\n",
    "    'acc': [],\n",
    "    'm1': [],\n",
    "    'm2': [],\n",
    "    'm3': []\n",
    "    \n",
    "}\n",
    "prune_thresholds = [i*10 for i in range(1,21)]\n",
    "verbose = False\n",
    "for prune_threshold in prune_thresholds:\n",
    "    print(f'Threshold = {prune_threshold}')\n",
    "    all_losses, efficancy_measures = decoding_loop(f, train_set=True, train_split=0.5, use_pruning=True, histogram_pruning_threshold=prune_threshold, verbose=verbose)\n",
    "    \n",
    "    avg_wer = get_avg_wer(all_losses, verbose=True)\n",
    "    m1,m2,m3 = get_avg_effciency(efficancy_measures, verbose=verbose)\n",
    "    exp_dict['loss'].append(all_losses)\n",
    "    exp_dict['efficancy'].append(efficancy_measures)\n",
    "    exp_dict['acc'].append(avg_wer)\n",
    "    exp_dict['m1'].append(m1)\n",
    "    exp_dict['m2'].append(m2)\n",
    "    exp_dict['m3'].append(m3)\n",
    "    print('\\n\\n\\n')\n",
    "    file_name = f'exp_dict_baseline_histogram_{prune_threshold}.pkl'\n",
    "    with open(file_name, 'wb') as handler:\n",
    "        pickle.dump(exp_dict, handler)\n",
    "    print(f'saved to {file_name}')\n",
    "\n",
    "\n",
    "\n"
   ]
  },
  {
   "cell_type": "code",
   "execution_count": 3,
   "metadata": {
    "tags": []
   },
   "outputs": [
    {
     "name": "stdout",
     "output_type": "stream",
     "text": [
      "Threshold = 5\n"
     ]
    },
    {
     "name": "stderr",
     "output_type": "stream",
     "text": [
      " 11%|█████                                        | 1/9 [00:00<00:06,  1.14it/s]"
     ]
    },
    {
     "name": "stdout",
     "output_type": "stream",
     "text": [
      "No path got to the end of the observations.\n"
     ]
    },
    {
     "name": "stderr",
     "output_type": "stream",
     "text": [
      " 22%|██████████                                   | 2/9 [00:01<00:05,  1.37it/s]"
     ]
    },
    {
     "name": "stdout",
     "output_type": "stream",
     "text": [
      "No path got to the end of the observations.\n"
     ]
    },
    {
     "name": "stderr",
     "output_type": "stream",
     "text": [
      " 33%|███████████████                              | 3/9 [00:02<00:04,  1.37it/s]"
     ]
    },
    {
     "name": "stdout",
     "output_type": "stream",
     "text": [
      "No path got to the end of the observations.\n"
     ]
    },
    {
     "name": "stderr",
     "output_type": "stream",
     "text": [
      " 44%|████████████████████                         | 4/9 [00:02<00:03,  1.35it/s]"
     ]
    },
    {
     "name": "stdout",
     "output_type": "stream",
     "text": [
      "No path got to the end of the observations.\n"
     ]
    },
    {
     "name": "stderr",
     "output_type": "stream",
     "text": [
      " 56%|█████████████████████████                    | 5/9 [00:03<00:03,  1.28it/s]"
     ]
    },
    {
     "name": "stdout",
     "output_type": "stream",
     "text": [
      "No path got to the end of the observations.\n"
     ]
    },
    {
     "name": "stderr",
     "output_type": "stream",
     "text": [
      " 67%|██████████████████████████████               | 6/9 [00:05<00:03,  1.07s/it]"
     ]
    },
    {
     "name": "stdout",
     "output_type": "stream",
     "text": [
      "No path got to the end of the observations.\n"
     ]
    },
    {
     "name": "stderr",
     "output_type": "stream",
     "text": [
      " 78%|███████████████████████████████████          | 7/9 [00:06<00:02,  1.04s/it]"
     ]
    },
    {
     "name": "stdout",
     "output_type": "stream",
     "text": [
      "No path got to the end of the observations.\n"
     ]
    },
    {
     "name": "stderr",
     "output_type": "stream",
     "text": [
      " 89%|████████████████████████████████████████     | 8/9 [00:07<00:01,  1.08s/it]"
     ]
    },
    {
     "name": "stdout",
     "output_type": "stream",
     "text": [
      "No path got to the end of the observations.\n"
     ]
    },
    {
     "name": "stderr",
     "output_type": "stream",
     "text": [
      "100%|█████████████████████████████████████████████| 9/9 [00:08<00:00,  1.03it/s]\n"
     ]
    },
    {
     "name": "stdout",
     "output_type": "stream",
     "text": [
      "No path got to the end of the observations.\n",
      "The average WER is 100.00%\n",
      "\n",
      "\n",
      "\n",
      "\n",
      "Threshold = 10\n"
     ]
    },
    {
     "name": "stderr",
     "output_type": "stream",
     "text": [
      " 44%|████████████████████                         | 4/9 [00:04<00:05,  1.01s/it]"
     ]
    },
    {
     "name": "stdout",
     "output_type": "stream",
     "text": [
      "No path got to the end of the observations.\n"
     ]
    },
    {
     "name": "stderr",
     "output_type": "stream",
     "text": [
      " 56%|█████████████████████████                    | 5/9 [00:05<00:04,  1.07s/it]"
     ]
    },
    {
     "name": "stdout",
     "output_type": "stream",
     "text": [
      "No path got to the end of the observations.\n"
     ]
    },
    {
     "name": "stderr",
     "output_type": "stream",
     "text": [
      " 67%|██████████████████████████████               | 6/9 [00:07<00:04,  1.43s/it]"
     ]
    },
    {
     "name": "stdout",
     "output_type": "stream",
     "text": [
      "No path got to the end of the observations.\n"
     ]
    },
    {
     "name": "stderr",
     "output_type": "stream",
     "text": [
      "100%|█████████████████████████████████████████████| 9/9 [00:11<00:00,  1.27s/it]\n"
     ]
    },
    {
     "name": "stdout",
     "output_type": "stream",
     "text": [
      "No path got to the end of the observations.\n",
      "The average WER is 119.32%\n",
      "\n",
      "\n",
      "\n",
      "\n",
      "Threshold = 15\n"
     ]
    },
    {
     "name": "stderr",
     "output_type": "stream",
     "text": [
      " 11%|█████                                        | 1/9 [00:01<00:09,  1.25s/it]"
     ]
    },
    {
     "name": "stdout",
     "output_type": "stream",
     "text": [
      "No path got to the end of the observations.\n"
     ]
    },
    {
     "name": "stderr",
     "output_type": "stream",
     "text": [
      " 44%|████████████████████                         | 4/9 [00:04<00:05,  1.08s/it]"
     ]
    },
    {
     "name": "stdout",
     "output_type": "stream",
     "text": [
      "No path got to the end of the observations.\n"
     ]
    },
    {
     "name": "stderr",
     "output_type": "stream",
     "text": [
      "100%|█████████████████████████████████████████████| 9/9 [00:12<00:00,  1.42s/it]\n"
     ]
    },
    {
     "name": "stdout",
     "output_type": "stream",
     "text": [
      "The average WER is 156.59%\n",
      "\n",
      "\n",
      "\n",
      "\n",
      "Threshold = 20\n"
     ]
    },
    {
     "name": "stderr",
     "output_type": "stream",
     "text": [
      " 56%|█████████████████████████                    | 5/9 [00:06<00:04,  1.23s/it]"
     ]
    },
    {
     "name": "stdout",
     "output_type": "stream",
     "text": [
      "No path got to the end of the observations.\n"
     ]
    },
    {
     "name": "stderr",
     "output_type": "stream",
     "text": [
      "100%|█████████████████████████████████████████████| 9/9 [00:13<00:00,  1.55s/it]\n"
     ]
    },
    {
     "name": "stdout",
     "output_type": "stream",
     "text": [
      "The average WER is 166.94%\n",
      "\n",
      "\n",
      "\n",
      "\n",
      "Threshold = 25\n"
     ]
    },
    {
     "name": "stderr",
     "output_type": "stream",
     "text": [
      "100%|█████████████████████████████████████████████| 9/9 [00:14<00:00,  1.66s/it]\n"
     ]
    },
    {
     "name": "stdout",
     "output_type": "stream",
     "text": [
      "The average WER is 131.04%\n",
      "\n",
      "\n",
      "\n",
      "\n",
      "Threshold = 30\n"
     ]
    },
    {
     "name": "stderr",
     "output_type": "stream",
     "text": [
      "100%|█████████████████████████████████████████████| 9/9 [00:15<00:00,  1.72s/it]\n"
     ]
    },
    {
     "name": "stdout",
     "output_type": "stream",
     "text": [
      "The average WER is 118.78%\n",
      "\n",
      "\n",
      "\n",
      "\n",
      "Threshold = 45\n"
     ]
    },
    {
     "name": "stderr",
     "output_type": "stream",
     "text": [
      "100%|█████████████████████████████████████████████| 9/9 [00:18<00:00,  2.05s/it]\n"
     ]
    },
    {
     "name": "stdout",
     "output_type": "stream",
     "text": [
      "The average WER is 87.41%\n",
      "\n",
      "\n",
      "\n",
      "\n",
      "Threshold = 50\n"
     ]
    },
    {
     "name": "stderr",
     "output_type": "stream",
     "text": [
      "100%|█████████████████████████████████████████████| 9/9 [00:18<00:00,  2.10s/it]\n"
     ]
    },
    {
     "name": "stdout",
     "output_type": "stream",
     "text": [
      "The average WER is 89.20%\n",
      "\n",
      "\n",
      "\n",
      "\n",
      "Threshold = 55\n"
     ]
    },
    {
     "name": "stderr",
     "output_type": "stream",
     "text": [
      "100%|█████████████████████████████████████████████| 9/9 [00:19<00:00,  2.21s/it]\n"
     ]
    },
    {
     "name": "stdout",
     "output_type": "stream",
     "text": [
      "The average WER is 89.20%\n",
      "\n",
      "\n",
      "\n",
      "\n",
      "Threshold = 60\n"
     ]
    },
    {
     "name": "stderr",
     "output_type": "stream",
     "text": [
      "100%|█████████████████████████████████████████████| 9/9 [00:21<00:00,  2.35s/it]\n"
     ]
    },
    {
     "name": "stdout",
     "output_type": "stream",
     "text": [
      "The average WER is 80.82%\n",
      "\n",
      "\n",
      "\n",
      "\n",
      "Threshold = 65\n"
     ]
    },
    {
     "name": "stderr",
     "output_type": "stream",
     "text": [
      "100%|█████████████████████████████████████████████| 9/9 [00:22<00:00,  2.45s/it]\n"
     ]
    },
    {
     "name": "stdout",
     "output_type": "stream",
     "text": [
      "The average WER is 89.99%\n",
      "\n",
      "\n",
      "\n",
      "\n",
      "Threshold = 70\n"
     ]
    },
    {
     "name": "stderr",
     "output_type": "stream",
     "text": [
      "100%|█████████████████████████████████████████████| 9/9 [00:24<00:00,  2.73s/it]\n"
     ]
    },
    {
     "name": "stdout",
     "output_type": "stream",
     "text": [
      "The average WER is 91.38%\n",
      "\n",
      "\n",
      "\n",
      "\n",
      "Threshold = 75\n"
     ]
    },
    {
     "name": "stderr",
     "output_type": "stream",
     "text": [
      "100%|█████████████████████████████████████████████| 9/9 [00:24<00:00,  2.69s/it]\n"
     ]
    },
    {
     "name": "stdout",
     "output_type": "stream",
     "text": [
      "The average WER is 91.38%\n",
      "\n",
      "\n",
      "\n",
      "\n",
      "Threshold = 80\n"
     ]
    },
    {
     "name": "stderr",
     "output_type": "stream",
     "text": [
      "100%|█████████████████████████████████████████████| 9/9 [00:25<00:00,  2.79s/it]\n"
     ]
    },
    {
     "name": "stdout",
     "output_type": "stream",
     "text": [
      "The average WER is 77.85%\n",
      "\n",
      "\n",
      "\n",
      "\n",
      "Threshold = 85\n"
     ]
    },
    {
     "name": "stderr",
     "output_type": "stream",
     "text": [
      "100%|█████████████████████████████████████████████| 9/9 [00:26<00:00,  2.99s/it]\n"
     ]
    },
    {
     "name": "stdout",
     "output_type": "stream",
     "text": [
      "The average WER is 89.68%\n",
      "\n",
      "\n",
      "\n",
      "\n",
      "Threshold = 90\n"
     ]
    },
    {
     "name": "stderr",
     "output_type": "stream",
     "text": [
      "100%|█████████████████████████████████████████████| 9/9 [00:32<00:00,  3.62s/it]\n"
     ]
    },
    {
     "name": "stdout",
     "output_type": "stream",
     "text": [
      "The average WER is 83.71%\n",
      "\n",
      "\n",
      "\n",
      "\n",
      "Threshold = 95\n"
     ]
    },
    {
     "name": "stderr",
     "output_type": "stream",
     "text": [
      "100%|█████████████████████████████████████████████| 9/9 [00:28<00:00,  3.16s/it]\n"
     ]
    },
    {
     "name": "stdout",
     "output_type": "stream",
     "text": [
      "The average WER is 82.32%\n",
      "\n",
      "\n",
      "\n",
      "\n",
      "Threshold = 100\n"
     ]
    },
    {
     "name": "stderr",
     "output_type": "stream",
     "text": [
      "100%|█████████████████████████████████████████████| 9/9 [00:29<00:00,  3.23s/it]\n"
     ]
    },
    {
     "name": "stdout",
     "output_type": "stream",
     "text": [
      "The average WER is 86.03%\n",
      "\n",
      "\n",
      "\n",
      "\n",
      "Threshold = 110\n"
     ]
    },
    {
     "name": "stderr",
     "output_type": "stream",
     "text": [
      "100%|█████████████████████████████████████████████| 9/9 [00:31<00:00,  3.49s/it]\n"
     ]
    },
    {
     "name": "stdout",
     "output_type": "stream",
     "text": [
      "The average WER is 79.44%\n",
      "\n",
      "\n",
      "\n",
      "\n",
      "Threshold = 120\n"
     ]
    },
    {
     "name": "stderr",
     "output_type": "stream",
     "text": [
      "100%|█████████████████████████████████████████████| 9/9 [00:31<00:00,  3.50s/it]\n"
     ]
    },
    {
     "name": "stdout",
     "output_type": "stream",
     "text": [
      "The average WER is 69.98%\n",
      "\n",
      "\n",
      "\n",
      "\n",
      "Threshold = 130\n"
     ]
    },
    {
     "name": "stderr",
     "output_type": "stream",
     "text": [
      "100%|█████████████████████████████████████████████| 9/9 [00:31<00:00,  3.45s/it]\n"
     ]
    },
    {
     "name": "stdout",
     "output_type": "stream",
     "text": [
      "The average WER is 69.98%\n",
      "\n",
      "\n",
      "\n",
      "\n",
      "Threshold = 140\n"
     ]
    },
    {
     "name": "stderr",
     "output_type": "stream",
     "text": [
      "100%|█████████████████████████████████████████████| 9/9 [00:30<00:00,  3.42s/it]\n"
     ]
    },
    {
     "name": "stdout",
     "output_type": "stream",
     "text": [
      "The average WER is 69.98%\n",
      "\n",
      "\n",
      "\n",
      "\n",
      "Threshold = 150\n"
     ]
    },
    {
     "name": "stderr",
     "output_type": "stream",
     "text": [
      "100%|█████████████████████████████████████████████| 9/9 [00:30<00:00,  3.41s/it]\n"
     ]
    },
    {
     "name": "stdout",
     "output_type": "stream",
     "text": [
      "The average WER is 69.98%\n",
      "\n",
      "\n",
      "\n",
      "\n",
      "Threshold = 160\n"
     ]
    },
    {
     "name": "stderr",
     "output_type": "stream",
     "text": [
      "100%|█████████████████████████████████████████████| 9/9 [00:31<00:00,  3.52s/it]\n"
     ]
    },
    {
     "name": "stdout",
     "output_type": "stream",
     "text": [
      "The average WER is 69.98%\n",
      "\n",
      "\n",
      "\n",
      "\n",
      "Threshold = 170\n"
     ]
    },
    {
     "name": "stderr",
     "output_type": "stream",
     "text": [
      "100%|█████████████████████████████████████████████| 9/9 [00:33<00:00,  3.76s/it]\n"
     ]
    },
    {
     "name": "stdout",
     "output_type": "stream",
     "text": [
      "The average WER is 69.98%\n",
      "\n",
      "\n",
      "\n",
      "\n",
      "Threshold = 180\n"
     ]
    },
    {
     "name": "stderr",
     "output_type": "stream",
     "text": [
      "100%|█████████████████████████████████████████████| 9/9 [00:30<00:00,  3.41s/it]\n"
     ]
    },
    {
     "name": "stdout",
     "output_type": "stream",
     "text": [
      "The average WER is 69.98%\n",
      "\n",
      "\n",
      "\n",
      "\n",
      "Threshold = 190\n"
     ]
    },
    {
     "name": "stderr",
     "output_type": "stream",
     "text": [
      "100%|█████████████████████████████████████████████| 9/9 [00:30<00:00,  3.41s/it]\n"
     ]
    },
    {
     "name": "stdout",
     "output_type": "stream",
     "text": [
      "The average WER is 69.98%\n",
      "\n",
      "\n",
      "\n",
      "\n",
      "Threshold = 200\n"
     ]
    },
    {
     "name": "stderr",
     "output_type": "stream",
     "text": [
      "100%|█████████████████████████████████████████████| 9/9 [00:30<00:00,  3.41s/it]\n"
     ]
    },
    {
     "name": "stdout",
     "output_type": "stream",
     "text": [
      "The average WER is 69.98%\n",
      "\n",
      "\n",
      "\n",
      "\n",
      "Threshold = 250\n"
     ]
    },
    {
     "name": "stderr",
     "output_type": "stream",
     "text": [
      "100%|█████████████████████████████████████████████| 9/9 [00:30<00:00,  3.41s/it]\n"
     ]
    },
    {
     "name": "stdout",
     "output_type": "stream",
     "text": [
      "The average WER is 69.98%\n",
      "\n",
      "\n",
      "\n",
      "\n",
      "Threshold = 300\n"
     ]
    },
    {
     "name": "stderr",
     "output_type": "stream",
     "text": [
      "100%|█████████████████████████████████████████████| 9/9 [00:32<00:00,  3.63s/it]"
     ]
    },
    {
     "name": "stdout",
     "output_type": "stream",
     "text": [
      "The average WER is 69.98%\n",
      "\n",
      "\n",
      "\n",
      "\n"
     ]
    },
    {
     "name": "stderr",
     "output_type": "stream",
     "text": [
      "\n"
     ]
    }
   ],
   "source": [
    "exp_dict= {\n",
    "    'loss' : [],\n",
    "    'efficancy':[],\n",
    "    'acc': [],\n",
    "    'm1': [],\n",
    "    'm2': [],\n",
    "    'm3': []\n",
    "    \n",
    "}\n",
    "prune_thresholds  = [5,10,15,20,25,30,45,50,55,60,65, 70,75,80,85,90,95,100,110,120,130,140,150,160,170,180,190,200,250,300]\n",
    "verbose = False\n",
    "for prune_threshold in prune_thresholds:\n",
    "    print(f'Threshold = {prune_threshold}')\n",
    "    all_losses, efficancy_measures = decoding_loop(f, train_set=True, train_split=0.03, use_pruning=True, histogram_pruning_threshold=prune_threshold, verbose=verbose)\n",
    "    avg_wer = get_avg_wer(all_losses, verbose=True)\n",
    "    m1,m2,m3 = get_avg_effciency(efficancy_measures, verbose=verbose)\n",
    "    exp_dict['loss'].append(all_losses)\n",
    "    exp_dict['efficancy'].append(efficancy_measures)\n",
    "    exp_dict['acc'].append(avg_wer)\n",
    "    exp_dict['m1'].append(m1)\n",
    "    exp_dict['m2'].append(m2)\n",
    "    exp_dict['m3'].append(m3)\n",
    "    print('\\n\\n\\n')\n",
    "\n",
    "\n"
   ]
  },
  {
   "cell_type": "code",
   "execution_count": null,
   "metadata": {
    "tags": []
   },
   "outputs": [],
   "source": [
    "plt.plot(prune_thresholds, exp_dict['acc'])"
   ]
  },
  {
   "cell_type": "code",
   "execution_count": null,
   "metadata": {},
   "outputs": [],
   "source": []
  },
  {
   "cell_type": "code",
   "execution_count": null,
   "metadata": {},
   "outputs": [],
   "source": []
  },
  {
   "cell_type": "code",
   "execution_count": null,
   "metadata": {},
   "outputs": [],
   "source": []
  },
  {
   "cell_type": "code",
   "execution_count": null,
   "metadata": {},
   "outputs": [],
   "source": []
  },
  {
   "cell_type": "code",
   "execution_count": null,
   "metadata": {
    "tags": []
   },
   "outputs": [],
   "source": [
    "plt.plot(prune_thresholds, exp_dict['acc'])"
   ]
  },
  {
   "cell_type": "markdown",
   "metadata": {},
   "source": [
    "# ======================================================"
   ]
  }
 ],
 "metadata": {
  "kernelspec": {
   "display_name": "Python 3 (ipykernel)",
   "language": "python",
   "name": "python3"
  },
  "language_info": {
   "codemirror_mode": {
    "name": "ipython",
    "version": 3
   },
   "file_extension": ".py",
   "mimetype": "text/x-python",
   "name": "python",
   "nbconvert_exporter": "python",
   "pygments_lexer": "ipython3",
   "version": "3.7.16"
  },
  "vscode": {
   "interpreter": {
    "hash": "8696358051874a88c1d2911df8bbed88795a658bdc69c38e8bd7d9488224210f"
   }
  }
 },
 "nbformat": 4,
 "nbformat_minor": 4
}
