{
 "cells": [
  {
   "cell_type": "markdown",
   "metadata": {},
   "source": [
    "# =================================================="
   ]
  },
  {
   "cell_type": "markdown",
   "metadata": {},
   "source": [
    "# Task 2"
   ]
  },
  {
   "cell_type": "code",
   "execution_count": 1,
   "metadata": {
    "tags": []
   },
   "outputs": [
    {
     "name": "stderr",
     "output_type": "stream",
     "text": [
      " 85%|████████████████████████████████▏     | 269/318 [00:00<00:00, 36241.42it/s]\n"
     ]
    }
   ],
   "source": [
    "### import os\n",
    "import wer\n",
    "import openfst_python as fst\n",
    "import glob\n",
    "import matplotlib.pyplot as plt\n",
    "from tqdm import tqdm\n",
    "import os\n",
    "from vetrbi import MyViterbiDecoder\n",
    "from utils import parse_lexicon, generate_symbol_tables\n",
    "from hmm import generate_word_sequence_recognition_wfst\n",
    "from hmm import generate_word_sequence_recognition_wfst_with_silance\n",
    "from utils import draw\n",
    "import numpy as np\n",
    "\n",
    "def create_wfst():\n",
    "    f = generate_word_sequence_recognition_wfst(3)\n",
    "    f.set_input_symbols(state_table)\n",
    "    f.set_output_symbols(phone_table)\n",
    "    return f\n",
    "\n",
    "def create_wfst_with_silance():\n",
    "    f = generate_word_sequence_recognition_wfst_with_silance(3, use_unigram_probs=False)\n",
    "    f.set_input_symbols(state_table)\n",
    "    f.set_output_symbols(phone_table)\n",
    "    return f\n",
    "\n",
    "def create_lexical():\n",
    "    f = generate_lexical_hmm(1, use_unigram_probs=False)\n",
    "    f.set_input_symbols(state_table)\n",
    "    f.set_output_symbols(phone_table)\n",
    "    return f\n",
    "\n",
    "def read_transcription(wav_file):\n",
    "    \"\"\"\n",
    "    Get the transcription corresponding to wav_file.\n",
    "    \"\"\"\n",
    "    \n",
    "    transcription_file = os.path.splitext(wav_file)[0] + '.txt'\n",
    "    \n",
    "    with open(transcription_file, 'r') as f:\n",
    "        transcription = f.readline().strip()\n",
    "    \n",
    "    return transcription\n",
    "\n",
    "def memory_of_wfst(f):\n",
    "    '''\n",
    "    Compute a measure of the memory required for your decoder by providing counts\n",
    "    of number of states and arcs in the WFST.\n",
    "    '''\n",
    "    all_states = []\n",
    "    all_arcs = []\n",
    "    for state in f.states():\n",
    "        all_states.append(state)\n",
    "        for arc in f.arcs(state):\n",
    "            all_arcs.append(arc)\n",
    "    return len(all_states), len(all_arcs)\n",
    "    \n",
    "def get_avg_wer(all_losses, verbose=False):\n",
    "    all_wer = []\n",
    "    for error_counts, word_count in all_losses:\n",
    "        all_wer.append(sum(error_counts) / word_count)\n",
    "    \n",
    "    if verbose :\n",
    "        print(f'The average WER is {np.mean(all_wer):.2%}')    \n",
    "    return np.mean(all_wer)\n",
    "\n",
    "def get_avg_effciency(efficancy_measures, verbose=False):\n",
    "    decoding_time = np.mean(efficancy_measures[0])\n",
    "    backtrace_time = np.mean(efficancy_measures[1])\n",
    "    number_of_computions = np.mean(efficancy_measures[2])\n",
    "    if verbose:\n",
    "        print(f'The average decoding time is {decoding_time:.2f} seconds')\n",
    "        print(f'The average backtrace time is {backtrace_time:.2f} seconds')\n",
    "        print(f'The average number of computations is {number_of_computions:.2f}')\n",
    "    return decoding_time, backtrace_time, number_of_computions\n",
    "\n",
    "\n",
    "def decoding_loop(f, train_set=True, train_split=0.85, use_pruning=False, determinized=False, verbose=False, prune_threshold= None):\n",
    "    all_losses = []\n",
    "    decoding_time = []\n",
    "    backtrace_time = []\n",
    "    number_of_computations = []\n",
    "    all_files = glob.glob('/group/teaching/asr/labs/recordings/*.wav')\n",
    "    train_files = all_files[:(int(train_split*len(all_files)))]\n",
    "    test_files = all_files[(int(train_split*len(all_files))):]\n",
    "    \n",
    "    if train_set:\n",
    "        files= train_files\n",
    "    else:\n",
    "        files = test_files\n",
    "    \n",
    "    for wav_file in tqdm(files):    \n",
    "        decoder  = MyViterbiDecoder(f, wav_file, verbose=verbose, use_pruning=use_pruning, determinized=determinized)\n",
    "        if use_pruning and prune_threshold!=None:\n",
    "            decoder.prune_threshold = prune_threshold\n",
    "        decoder.decode()\n",
    "        (state_path, words) = decoder.backtrace()  \n",
    "        transcription = read_transcription(wav_file)\n",
    "        error_counts = wer.compute_alignment_errors(transcription, words)\n",
    "        word_count = len(transcription.split())\n",
    "\n",
    "        all_losses.append((error_counts, word_count))\n",
    "        decoding_time.append(decoder.decode_time)\n",
    "        backtrace_time.append(decoder.backtrace_time)\n",
    "        number_of_computations.append(decoder.number_of_computiations)\n",
    "        if verbose:\n",
    "            print(f'Transcription: {transcription} || Prediction: {words} || (nsub, ndel, nin) :{error_counts}')\n",
    "    \n",
    "    efficancy_measures = (decoding_time, backtrace_time, number_of_computations)\n",
    "    return all_losses, efficancy_measures\n",
    "\n",
    "\n",
    "lex = parse_lexicon('lexicon.txt')\n",
    "word_table, phone_table, state_table = generate_symbol_tables(lex)\n",
    "f = create_wfst()\n",
    "f_silence = create_wfst_with_silance()"
   ]
  },
  {
   "cell_type": "code",
   "execution_count": null,
   "metadata": {
    "tags": []
   },
   "outputs": [
    {
     "name": "stdout",
     "output_type": "stream",
     "text": [
      "Threshold = 5\n"
     ]
    },
    {
     "name": "stderr",
     "output_type": "stream",
     "text": [
      "  0%|▏                                          | 1/270 [00:01<05:12,  1.16s/it]"
     ]
    },
    {
     "name": "stdout",
     "output_type": "stream",
     "text": [
      "No path got to the end of the observations.\n"
     ]
    },
    {
     "name": "stderr",
     "output_type": "stream",
     "text": [
      "  1%|▎                                          | 2/270 [00:01<04:13,  1.06it/s]"
     ]
    },
    {
     "name": "stdout",
     "output_type": "stream",
     "text": [
      "No path got to the end of the observations.\n"
     ]
    },
    {
     "name": "stderr",
     "output_type": "stream",
     "text": [
      "  1%|▍                                          | 3/270 [00:02<04:08,  1.07it/s]"
     ]
    },
    {
     "name": "stdout",
     "output_type": "stream",
     "text": [
      "No path got to the end of the observations.\n"
     ]
    },
    {
     "name": "stderr",
     "output_type": "stream",
     "text": [
      "  1%|▋                                          | 4/270 [00:03<04:03,  1.09it/s]"
     ]
    },
    {
     "name": "stdout",
     "output_type": "stream",
     "text": [
      "No path got to the end of the observations.\n"
     ]
    },
    {
     "name": "stderr",
     "output_type": "stream",
     "text": [
      "  2%|▊                                          | 5/270 [00:04<04:14,  1.04it/s]"
     ]
    },
    {
     "name": "stdout",
     "output_type": "stream",
     "text": [
      "No path got to the end of the observations.\n"
     ]
    },
    {
     "name": "stderr",
     "output_type": "stream",
     "text": [
      "  2%|▉                                          | 6/270 [00:06<05:36,  1.28s/it]"
     ]
    },
    {
     "name": "stdout",
     "output_type": "stream",
     "text": [
      "No path got to the end of the observations.\n"
     ]
    },
    {
     "name": "stderr",
     "output_type": "stream",
     "text": [
      "  3%|█                                          | 7/270 [00:07<05:32,  1.27s/it]"
     ]
    },
    {
     "name": "stdout",
     "output_type": "stream",
     "text": [
      "No path got to the end of the observations.\n"
     ]
    },
    {
     "name": "stderr",
     "output_type": "stream",
     "text": [
      "  3%|█▎                                         | 8/270 [00:09<05:46,  1.32s/it]"
     ]
    },
    {
     "name": "stdout",
     "output_type": "stream",
     "text": [
      "No path got to the end of the observations.\n"
     ]
    },
    {
     "name": "stderr",
     "output_type": "stream",
     "text": [
      "  3%|█▍                                         | 9/270 [00:10<05:54,  1.36s/it]"
     ]
    },
    {
     "name": "stdout",
     "output_type": "stream",
     "text": [
      "No path got to the end of the observations.\n"
     ]
    },
    {
     "name": "stderr",
     "output_type": "stream",
     "text": [
      "  4%|█▌                                        | 10/270 [00:12<05:48,  1.34s/it]"
     ]
    },
    {
     "name": "stdout",
     "output_type": "stream",
     "text": [
      "No path got to the end of the observations.\n"
     ]
    },
    {
     "name": "stderr",
     "output_type": "stream",
     "text": [
      "  4%|█▋                                        | 11/270 [00:13<05:41,  1.32s/it]"
     ]
    },
    {
     "name": "stdout",
     "output_type": "stream",
     "text": [
      "No path got to the end of the observations.\n"
     ]
    },
    {
     "name": "stderr",
     "output_type": "stream",
     "text": [
      "  4%|█▊                                        | 12/270 [00:15<06:44,  1.57s/it]"
     ]
    },
    {
     "name": "stdout",
     "output_type": "stream",
     "text": [
      "No path got to the end of the observations.\n"
     ]
    },
    {
     "name": "stderr",
     "output_type": "stream",
     "text": [
      "  5%|██                                        | 13/270 [00:16<05:55,  1.38s/it]"
     ]
    },
    {
     "name": "stdout",
     "output_type": "stream",
     "text": [
      "No path got to the end of the observations.\n"
     ]
    },
    {
     "name": "stderr",
     "output_type": "stream",
     "text": [
      "  5%|██▏                                       | 14/270 [00:18<06:12,  1.46s/it]"
     ]
    },
    {
     "name": "stdout",
     "output_type": "stream",
     "text": [
      "No path got to the end of the observations.\n"
     ]
    },
    {
     "name": "stderr",
     "output_type": "stream",
     "text": [
      "  6%|██▎                                       | 15/270 [00:19<05:32,  1.31s/it]"
     ]
    },
    {
     "name": "stdout",
     "output_type": "stream",
     "text": [
      "No path got to the end of the observations.\n"
     ]
    },
    {
     "name": "stderr",
     "output_type": "stream",
     "text": [
      "  6%|██▍                                       | 16/270 [00:20<05:06,  1.21s/it]"
     ]
    },
    {
     "name": "stdout",
     "output_type": "stream",
     "text": [
      "No path got to the end of the observations.\n"
     ]
    },
    {
     "name": "stderr",
     "output_type": "stream",
     "text": [
      "  6%|██▋                                       | 17/270 [00:22<06:45,  1.60s/it]"
     ]
    },
    {
     "name": "stdout",
     "output_type": "stream",
     "text": [
      "No path got to the end of the observations.\n"
     ]
    },
    {
     "name": "stderr",
     "output_type": "stream",
     "text": [
      "  7%|██▊                                       | 18/270 [00:23<06:00,  1.43s/it]"
     ]
    },
    {
     "name": "stdout",
     "output_type": "stream",
     "text": [
      "No path got to the end of the observations.\n"
     ]
    },
    {
     "name": "stderr",
     "output_type": "stream",
     "text": [
      "  7%|██▉                                       | 19/270 [00:24<05:43,  1.37s/it]"
     ]
    },
    {
     "name": "stdout",
     "output_type": "stream",
     "text": [
      "No path got to the end of the observations.\n"
     ]
    },
    {
     "name": "stderr",
     "output_type": "stream",
     "text": [
      "  7%|███                                       | 20/270 [00:26<06:09,  1.48s/it]"
     ]
    },
    {
     "name": "stdout",
     "output_type": "stream",
     "text": [
      "No path got to the end of the observations.\n"
     ]
    },
    {
     "name": "stderr",
     "output_type": "stream",
     "text": [
      "  8%|███▎                                      | 21/270 [00:28<06:58,  1.68s/it]"
     ]
    },
    {
     "name": "stdout",
     "output_type": "stream",
     "text": [
      "No path got to the end of the observations.\n"
     ]
    },
    {
     "name": "stderr",
     "output_type": "stream",
     "text": [
      "  8%|███▍                                      | 22/270 [00:29<06:00,  1.45s/it]"
     ]
    },
    {
     "name": "stdout",
     "output_type": "stream",
     "text": [
      "No path got to the end of the observations.\n"
     ]
    },
    {
     "name": "stderr",
     "output_type": "stream",
     "text": [
      "  9%|███▌                                      | 23/270 [00:33<08:30,  2.07s/it]"
     ]
    },
    {
     "name": "stdout",
     "output_type": "stream",
     "text": [
      "No path got to the end of the observations.\n"
     ]
    },
    {
     "name": "stderr",
     "output_type": "stream",
     "text": [
      "  9%|███▋                                      | 24/270 [00:35<08:26,  2.06s/it]"
     ]
    },
    {
     "name": "stdout",
     "output_type": "stream",
     "text": [
      "No path got to the end of the observations.\n"
     ]
    },
    {
     "name": "stderr",
     "output_type": "stream",
     "text": [
      "  9%|███▉                                      | 25/270 [00:36<07:55,  1.94s/it]"
     ]
    },
    {
     "name": "stdout",
     "output_type": "stream",
     "text": [
      "No path got to the end of the observations.\n"
     ]
    },
    {
     "name": "stderr",
     "output_type": "stream",
     "text": [
      " 10%|████                                      | 26/270 [00:39<08:22,  2.06s/it]"
     ]
    },
    {
     "name": "stdout",
     "output_type": "stream",
     "text": [
      "No path got to the end of the observations.\n"
     ]
    },
    {
     "name": "stderr",
     "output_type": "stream",
     "text": [
      " 10%|████▏                                     | 27/270 [00:41<08:29,  2.10s/it]"
     ]
    },
    {
     "name": "stdout",
     "output_type": "stream",
     "text": [
      "No path got to the end of the observations.\n"
     ]
    },
    {
     "name": "stderr",
     "output_type": "stream",
     "text": [
      " 10%|████▎                                     | 28/270 [00:44<09:44,  2.41s/it]"
     ]
    },
    {
     "name": "stdout",
     "output_type": "stream",
     "text": [
      "No path got to the end of the observations.\n"
     ]
    },
    {
     "name": "stderr",
     "output_type": "stream",
     "text": [
      " 11%|████▌                                     | 29/270 [00:45<08:22,  2.08s/it]"
     ]
    },
    {
     "name": "stdout",
     "output_type": "stream",
     "text": [
      "No path got to the end of the observations.\n"
     ]
    },
    {
     "name": "stderr",
     "output_type": "stream",
     "text": [
      " 11%|████▋                                     | 30/270 [00:46<06:59,  1.75s/it]"
     ]
    },
    {
     "name": "stdout",
     "output_type": "stream",
     "text": [
      "No path got to the end of the observations.\n"
     ]
    },
    {
     "name": "stderr",
     "output_type": "stream",
     "text": [
      " 12%|████▉                                     | 32/270 [00:48<05:04,  1.28s/it]"
     ]
    },
    {
     "name": "stdout",
     "output_type": "stream",
     "text": [
      "No path got to the end of the observations.\n"
     ]
    },
    {
     "name": "stderr",
     "output_type": "stream",
     "text": [
      " 12%|█████▏                                    | 33/270 [00:49<04:27,  1.13s/it]"
     ]
    },
    {
     "name": "stdout",
     "output_type": "stream",
     "text": [
      "No path got to the end of the observations.\n"
     ]
    },
    {
     "name": "stderr",
     "output_type": "stream",
     "text": [
      " 13%|█████▎                                    | 34/270 [00:50<04:44,  1.21s/it]"
     ]
    },
    {
     "name": "stdout",
     "output_type": "stream",
     "text": [
      "No path got to the end of the observations.\n"
     ]
    },
    {
     "name": "stderr",
     "output_type": "stream",
     "text": [
      " 13%|█████▍                                    | 35/270 [00:51<04:45,  1.21s/it]"
     ]
    },
    {
     "name": "stdout",
     "output_type": "stream",
     "text": [
      "No path got to the end of the observations.\n"
     ]
    },
    {
     "name": "stderr",
     "output_type": "stream",
     "text": [
      " 13%|█████▌                                    | 36/270 [00:52<04:29,  1.15s/it]"
     ]
    },
    {
     "name": "stdout",
     "output_type": "stream",
     "text": [
      "No path got to the end of the observations.\n"
     ]
    },
    {
     "name": "stderr",
     "output_type": "stream",
     "text": [
      " 14%|█████▊                                    | 37/270 [00:53<04:23,  1.13s/it]"
     ]
    },
    {
     "name": "stdout",
     "output_type": "stream",
     "text": [
      "No path got to the end of the observations.\n"
     ]
    }
   ],
   "source": [
    "exp_dict= {\n",
    "    'loss' : [],\n",
    "    'efficancy':[],\n",
    "    'acc': [],\n",
    "    'm1': [],\n",
    "    'm2': [],\n",
    "    'm3': []\n",
    "    \n",
    "}\n",
    "prune_thresholds  = [5,10,15,20,25,30,45,50,55,60,65, 70,75,80]\n",
    "verbose = False\n",
    "for prune_threshold in prune_thresholds:\n",
    "    print(f'Threshold = {prune_threshold}')\n",
    "    all_losses, efficancy_measures = decoding_loop(f, train_set=True, train_split=0.85, use_pruning=True, prune_threshold=prune_threshold, verbose=verbose)\n",
    "    avg_wer = get_avg_wer(all_losses, verbose=True)\n",
    "    m1,m2,m3 = get_avg_effciency(efficancy_measures, verbose=verbose)\n",
    "    exp_dict['loss'].append(all_losses)\n",
    "    exp_dict['efficancy'].append(efficancy_measures)\n",
    "    exp_dict['acc'].append(avg_wer)\n",
    "    exp_dict['m1'].append(m1)\n",
    "    exp_dict['m2'].append(m2)\n",
    "    exp_dict['m3'].append(m3)\n",
    "    print('\\n\\n\\n')\n",
    "\n",
    "\n"
   ]
  },
  {
   "cell_type": "code",
   "execution_count": null,
   "metadata": {
    "tags": []
   },
   "outputs": [],
   "source": [
    "plt.plot(prune_thresholds, exp_dict['acc'])"
   ]
  },
  {
   "cell_type": "code",
   "execution_count": null,
   "metadata": {
    "tags": []
   },
   "outputs": [],
   "source": [
    "# save the results to a file\n",
    "import pickle\n",
    "with open('exp_dict.pkl', 'wb') as f:\n",
    "    pickle.dump(exp_dict, f)\n",
    "\n",
    "# load the results from a file\n",
    "import pickle\n",
    "with open('exp_dict.pkl', 'rb') as f:\n",
    "    exp_dict = pickle.load(f)"
   ]
  },
  {
   "cell_type": "code",
   "execution_count": 8,
   "metadata": {
    "tags": []
   },
   "outputs": [
    {
     "data": {
      "text/plain": [
       "[<matplotlib.lines.Line2D at 0x2ada8487b190>]"
      ]
     },
     "execution_count": 8,
     "metadata": {},
     "output_type": "execute_result"
    },
    {
     "data": {
      "image/png": "[encoded data removed]",
      "text/plain": [
       "<Figure size 640x480 with 1 Axes>"
      ]
     },
     "metadata": {},
     "output_type": "display_data"
    }
   ],
   "source": [
    "plt.plot(prune_thresholds, exp_dict['acc'])"
   ]
  },
  {
   "cell_type": "markdown",
   "metadata": {},
   "source": [
    "# ======================================================"
   ]
  },
  {
   "cell_type": "code",
   "execution_count": null,
   "metadata": {},
   "outputs": [],
   "source": [
    "import os\n",
    "import wer\n",
    "import glob\n",
    "from tqdm import tqdm\n",
    "from vetrbi import MyViterbiDecoder\n",
    "from utils import parse_lexicon, generate_symbol_tables\n",
    "\n",
    "\n",
    "lex = parse_lexicon('lexicon.txt')\n",
    "word_table, phone_table, state_table = generate_symbol_tables(lex)\n",
    "\n",
    "\n",
    "def read_transcription(wav_file):\n",
    "    \"\"\"\n",
    "    Get the transcription corresponding to wav_file.\n",
    "    \"\"\"\n",
    "    \n",
    "    transcription_file = os.path.splitext(wav_file)[0] + '.txt'\n",
    "    \n",
    "    with open(transcription_file, 'r') as f:\n",
    "        transcription = f.readline().strip()\n",
    "    \n",
    "    return transcription\n"
   ]
  },
  {
   "cell_type": "code",
   "execution_count": null,
   "metadata": {},
   "outputs": [],
   "source": [
    "from hmm import generate_word_sequence_recognition_wfst\n",
    "from hmm import generate_word_sequence_recognition_wfst_with_silance\n",
    "from hmm import generate_lexical_hmm\n",
    "\n",
    "def create_wfst():\n",
    "    f = generate_word_sequence_recognition_wfst(3)\n",
    "    f.set_input_symbols(state_table)\n",
    "    f.set_output_symbols(phone_table)\n",
    "    return f\n",
    "\n",
    "def create_wfst_with_silance():\n",
    "    f = generate_word_sequence_recognition_wfst_with_silance(3, use_unigram_probs=False)\n",
    "    f.set_input_symbols(state_table)\n",
    "    f.set_output_symbols(phone_table)\n",
    "    return f\n",
    "\n",
    "def create_lexical():\n",
    "    f = generate_lexical_hmm(1, use_unigram_probs=False)\n",
    "    f.set_input_symbols(state_table)\n",
    "    f.set_output_symbols(phone_table)\n",
    "    return f\n"
   ]
  },
  {
   "cell_type": "code",
   "execution_count": null,
   "metadata": {},
   "outputs": [],
   "source": [
    "f = create_wfst()\n",
    "f_silence = create_wfst_with_silance()"
   ]
  },
  {
   "cell_type": "code",
   "execution_count": null,
   "metadata": {},
   "outputs": [],
   "source": [
    "import openfst_python as fst\n",
    "from subprocess import check_call\n",
    "from IPython.display import Image\n",
    "f_silence = fst.determinize(f_silence)\n",
    "f_silence.draw('tmp.dot', portrait=True)\n",
    "check_call(['dot','-Tpng','-Gdpi=400','tmp.dot','-o','tmp.png'])\n",
    "Image(filename='tmp.png')"
   ]
  },
  {
   "cell_type": "code",
   "execution_count": null,
   "metadata": {},
   "outputs": [],
   "source": [
    "all_losses = []\n",
    "decoding_time = []\n",
    "backtrace_time = []\n",
    "number_of_computations = []\n",
    "i = 0\n",
    "train_split = int(0.85 * len(glob.glob('/group/teaching/asr/labs/recordings/*.wav')))  # replace path if using your own audio files\n",
    "print(train_split)\n",
    "\n",
    "all_transcriptions = ''\n",
    "for wav_file in tqdm(glob.glob('/group/teaching/asr/labs/recordings/*.wav')):    # replace path if using your own\n",
    "                                                                           # audio files\n",
    "    \n",
    "    decoder  = MyViterbiDecoder(f_silence, wav_file, verbose=False, use_pruning=False, determinized=True)\n",
    "    decoder.decode()\n",
    "    (state_path, words) = decoder.backtrace()  \n",
    "    \n",
    "    transcription = read_transcription(wav_file)\n",
    "    all_transcriptions += transcription + ' '\n",
    "    error_counts = wer.compute_alignment_errors(transcription, words)\n",
    "    word_count = len(transcription.split())\n",
    "\n",
    "    all_losses.append((error_counts, word_count))\n",
    "    decoding_time.append(decoder.decode_time)\n",
    "    backtrace_time.append(decoder.backtrace_time)\n",
    "    number_of_computations.append(decoder.number_of_computiations)\n",
    "    i += 1\n",
    "    if i == 10:\n",
    "        break"
   ]
  },
  {
   "cell_type": "code",
   "execution_count": null,
   "metadata": {},
   "outputs": [],
   "source": [
    "# calculate the WER fo each file\n",
    "import numpy as np\n",
    "all_wer = []\n",
    "for error_counts, word_count in all_losses:\n",
    "    all_wer.append(sum(error_counts) / word_count)\n",
    "\n",
    "\n",
    "\n",
    "print(f'The average WER is {np.mean(all_wer):.2%}')"
   ]
  },
  {
   "cell_type": "code",
   "execution_count": null,
   "metadata": {},
   "outputs": [],
   "source": [
    "#Print dcoding time statistics\n",
    "print(f'The average decoding time is {np.mean(decoding_time):.2f} seconds')\n",
    "print(f'The average backtrace time is {np.mean(backtrace_time):.2f} seconds')\n",
    "print(f'The average number of computations is {np.mean(number_of_computations):.2f}')\n",
    "\n"
   ]
  },
  {
   "cell_type": "code",
   "execution_count": null,
   "metadata": {},
   "outputs": [],
   "source": [
    "# count unigram counts in all_transcriptions\n",
    "unigram_counts = {}\n",
    "for word in all_transcriptions.split():\n",
    "    if word in unigram_counts:\n",
    "        unigram_counts[word] += 1\n",
    "    else:\n",
    "        unigram_counts[word] = 1\n",
    "\n",
    "\n",
    "\n",
    "print('Unigram counts:' ,unigram_counts)\n",
    "unigram_probs = {}\n",
    "for word, count in unigram_counts.items():\n",
    "    unigram_probs[word] = count / sum(unigram_counts.values())\n",
    "\n",
    "print('Unigram probs:' ,unigram_probs)\n",
    "# save unigram probs to pickle file\n",
    "import pickle\n",
    "with open('unigram_probs.pickle', 'wb') as handle:\n",
    "    pickle.dump(unigram_probs, handle)\n",
    "    # load unigram probs from pickle file\n",
    "import pickle\n",
    "with open('unigram_probs.pickle', 'rb') as handle:\n",
    "    unigram_probs = pickle.load(handle)\n",
    "\n",
    "print('Unigram probs:' ,unigram_probs)"
   ]
  },
  {
   "cell_type": "code",
   "execution_count": null,
   "metadata": {},
   "outputs": [],
   "source": []
  },
  {
   "cell_type": "code",
   "execution_count": 1,
   "metadata": {},
   "outputs": [],
   "source": [
    "import os\n",
    "import wer\n",
    "import glob\n",
    "from tqdm import tqdm\n",
    "from vetrbi import MyViterbiDecoder\n",
    "from utils import parse_lexicon, generate_symbol_tables, draw\n",
    "import openfst_python as fst\n",
    "\n",
    "\n",
    "\n",
    "lex = parse_lexicon('lexicon.txt')\n",
    "word_table, phone_table, state_table = generate_symbol_tables(lex)\n",
    "\n",
    "\n",
    "def read_transcription(wav_file):\n",
    "    \"\"\"\n",
    "    Get the transcription corresponding to wav_file.\n",
    "    \"\"\"\n",
    "    \n",
    "    transcription_file = os.path.splitext(wav_file)[0] + '.txt'\n",
    "    \n",
    "    with open(transcription_file, 'r') as f:\n",
    "        transcription = f.readline().strip()\n",
    "    \n",
    "    return transcription\n"
   ]
  },
  {
   "cell_type": "code",
   "execution_count": 2,
   "metadata": {},
   "outputs": [
    {
     "name": "stderr",
     "output_type": "stream",
     "text": [
      " 85%|████████▍ | 269/318 [00:00<00:00, 32627.76it/s]\n"
     ]
    }
   ],
   "source": [
    "from hmm import generate_word_sequence_recognition_wfst\n",
    "from hmm import generate_word_sequence_recognition_wfst_with_silance\n",
    "from hmm import generate_bigram_wfst\n",
    "\n",
    "def create_wfst():\n",
    "    f = generate_word_sequence_recognition_wfst(3)\n",
    "    f.set_input_symbols(state_table)\n",
    "    f.set_output_symbols(phone_table)\n",
    "    return f\n",
    "\n",
    "def create_wfst_with_silance():\n",
    "    f = generate_word_sequence_recognition_wfst_with_silance(3, use_unigram_probs=False)\n",
    "    f.set_input_symbols(state_table)\n",
    "    f.set_output_symbols(phone_table)\n",
    "    return f\n",
    "\n",
    "def create_lexical():\n",
    "    f = generate_lexical_hmm(1, use_unigram_probs=False)\n",
    "    f.set_input_symbols(state_table)\n",
    "    f.set_output_symbols(phone_table)\n",
    "    return f\n",
    "\n",
    "def create_bigram_lexical():\n",
    "    f = generate_bigram_wfst(1)\n",
    "    f.set_input_symbols(state_table)\n",
    "    f.set_output_symbols(phone_table)\n",
    "    return f\n"
   ]
  },
  {
   "cell_type": "code",
   "execution_count": 6,
   "metadata": {},
   "outputs": [
    {
     "name": "stdout",
     "output_type": "stream",
     "text": [
      "270\n"
     ]
    },
    {
     "name": "stderr",
     "output_type": "stream",
     "text": [
      "  0%|          | 1/318 [00:16<1:26:59, 16.46s/it]"
     ]
    },
    {
     "name": "stdout",
     "output_type": "stream",
     "text": [
      "Phones:  ['', ' ah v ', ' p ih k ah l d ', ' p ay p er ', ' dh iy ', ' ah v ', ' p iy t er ', '']\n",
      "best_out_sequence:  sil ah v sil p ih k ah l d sil p ay p er sil dh iy sil ah v sil p iy t er sil\n",
      "best_state_sequence:  [-1, 0, 1, 1, 1, 2, 2, 2, 2, 2, 2, 2, 2, 2, 2, 2, 3, 3, 3, 3, 3, 3, 3, 3, 3, 3, 3, 3, 3, 3, 3, 3, 3, 3, 3, 3, 3, 3, 3, 3, 3, 3, 3, 3, 3, 3, 3, 3, 3, 3, 3, 3, 3, 3, 3, 3, 3, 3, 3, 3, 3, 3, 3, 3, 3, 3, 3, 3, 3, 3, 3, 3, 3, 3, 3, 3, 3, 3, 3, 3, 3, 3, 3, 3, 3, 3, 3, 3, 3, 3, 3, 3, 3, 3, 3, 3, 3, 3, 3, 3, 3, 3, 3, 3, 5, 7, 13, 13, 13, 13, 13, 13, 25, 25, 25, 25, 25, 25, 25, 25, 25, 25, 45, 76, 188, 279, 389, 389, 389, 389, 389, 389, 389, 505, 505, 505, 505, 505, 505, 505, 505, 505, 621, 728, 728, 728, 728, 728, 728, 728, 728, 823, 823, 823, 823, 823, 823, 823, 907, 983, 663, 767, 767, 767, 861, 861, 861, 861, 861, 861, 861, 861, 861, 861, 861, 944, 1013, 1061, 1097, 463, 584, 584, 584, 584, 584, 584, 584, 584, 584, 584, 584, 691, 790, 882, 254, 357, 357, 357, 357, 357, 357, 357, 357, 469, 469, 469, 469, 469, 469, 469, 469, 469, 589, 696, 188, 279, 279, 279, 279, 279, 279, 279, 279, 388, 388, 388, 388, 388, 388, 388, 388, 388, 388, 504, 504, 504, 504, 504, 504, 504, 504, 504, 504, 504, 620, 727, 727, 727, 727, 727, 727, 727, 727, 727, 727, 727, 727, 727, 727, 727, 822, 822, 822, 822, 822, 822, 822, 822, 822, 822, 822, 822, 822, 822, 822, 822, 822, 822, 822, 822, 822, 822, 822, 822, 822, 822, 906, 906, 906, 906, 906, 906, 906, 906, 906, 906, 906, 906, 906, 906, 906, 906, 906, 906, 906, 906, 906, 906, 906, 906, 906, 906, 906, 906, 906, 906, 906, 906, 906, 906, 906, 906, 906, 906, 906, 906, 906, 906, 906, 906, 906, 906, 906, 906, 906, 906, 906, 906, 906, 906, 906, 906, 906, 906, 906, 906, 906, 906, 906, 314]\n",
      "of pickled piper the of peter \n",
      "a pickled piper of peter\n"
     ]
    },
    {
     "name": "stderr",
     "output_type": "stream",
     "text": [
      "  1%|          | 2/318 [00:27<1:09:54, 13.27s/it]"
     ]
    },
    {
     "name": "stdout",
     "output_type": "stream",
     "text": [
      "Phones:  ['', ' w eh r z ', ' p iy t er ', '']\n",
      "best_out_sequence:  sil w eh r z sil p iy t er sil\n",
      "best_state_sequence:  [-1, 0, 1, 1, 2, 2, 2, 2, 2, 2, 2, 2, 2, 2, 2, 2, 2, 2, 2, 2, 3, 3, 3, 3, 3, 3, 3, 3, 3, 3, 3, 3, 3, 3, 3, 3, 3, 3, 3, 3, 3, 3, 3, 3, 3, 3, 3, 3, 3, 3, 3, 3, 3, 3, 3, 3, 3, 3, 3, 3, 3, 3, 3, 3, 3, 3, 3, 3, 3, 3, 3, 3, 3, 3, 5, 10, 10, 10, 10, 10, 10, 10, 10, 10, 10, 10, 10, 10, 10, 21, 39, 39, 39, 39, 39, 68, 114, 177, 177, 177, 177, 177, 177, 177, 177, 177, 261, 368, 487, 604, 604, 604, 604, 604, 604, 604, 604, 711, 711, 711, 711, 711, 711, 711, 711, 711, 711, 808, 808, 808, 808, 808, 808, 808, 808, 808, 808, 897, 974, 974, 974, 974, 974, 974, 974, 974, 974, 974, 974, 974, 974, 974, 974, 974, 974, 974, 974, 1034, 1034, 1034, 1034, 1034, 1034, 1034, 1034, 1034, 1034, 1034, 1034, 1034, 1034, 1034, 1034, 1034, 1034, 1034, 1034, 1034, 1034, 1034, 1078, 1078, 1078, 1078, 1078, 1078, 1078, 1078, 1078, 1078, 1078, 1078, 1078, 1078, 1078, 1078, 1078, 1078, 1078, 1078, 1078, 1078, 1078, 1078, 1078, 1078, 1078, 1078, 1078, 1078, 1078, 1078, 1078, 1078, 1078, 1078, 1078, 1078, 1078, 1078, 1078, 1078, 1078, 1078, 1078, 1078, 1078, 1078, 1078, 1078, 1078, 1078, 1078, 1078, 1078, 1078, 1078, 1078, 314]\n",
      "where's peter \n",
      "where's peter\n"
     ]
    },
    {
     "name": "stderr",
     "output_type": "stream",
     "text": [
      "  1%|          | 3/318 [00:41<1:10:35, 13.45s/it]"
     ]
    },
    {
     "name": "stdout",
     "output_type": "stream",
     "text": [
      "Phones:  ['', ' p iy t er ', ' p ih k t ', ' p eh k ', '']\n",
      "best_out_sequence:  sil p iy t er sil p ih k t sil p eh k sil\n",
      "best_state_sequence:  [-1, 0, 1, 2, 2, 2, 2, 2, 2, 2, 2, 2, 2, 2, 2, 2, 2, 2, 2, 2, 2, 2, 2, 2, 2, 2, 2, 2, 2, 2, 2, 2, 2, 2, 2, 2, 3, 3, 3, 3, 3, 3, 3, 3, 3, 3, 3, 3, 3, 3, 3, 3, 3, 3, 3, 3, 3, 3, 3, 3, 3, 3, 3, 3, 3, 3, 3, 3, 3, 3, 3, 3, 3, 5, 8, 8, 8, 8, 8, 8, 8, 8, 8, 8, 8, 8, 8, 16, 30, 30, 30, 30, 30, 30, 30, 30, 53, 89, 89, 89, 89, 89, 89, 89, 89, 89, 89, 89, 89, 140, 210, 307, 430, 546, 546, 546, 546, 546, 546, 546, 546, 546, 546, 546, 546, 546, 546, 546, 546, 657, 657, 657, 657, 657, 761, 761, 761, 761, 761, 761, 761, 761, 761, 852, 852, 852, 852, 852, 852, 852, 852, 852, 852, 933, 933, 933, 1003, 445, 564, 564, 564, 564, 564, 564, 564, 564, 564, 564, 669, 669, 669, 669, 669, 669, 669, 773, 773, 773, 773, 773, 773, 773, 773, 773, 773, 773, 773, 773, 773, 867, 867, 867, 867, 867, 867, 949, 949, 949, 949, 949, 949, 949, 949, 949, 949, 949, 949, 949, 949, 949, 949, 949, 949, 949, 949, 949, 1017, 1017, 1017, 1017, 1017, 1017, 1017, 1017, 1017, 1017, 1017, 1017, 1017, 1017, 1017, 1017, 1017, 1017, 1017, 1017, 1017, 1017, 1017, 1017, 1017, 1017, 1017, 1017, 1017, 1017, 1017, 1017, 1017, 1017, 1017, 1017, 1017, 1017, 1017, 1017, 1017, 1017, 1017, 1017, 1017, 1017, 1017, 1017, 1017, 1017, 1017, 1017, 1017, 1017, 1017, 1017, 1017, 1017, 1017, 1017, 1017, 1017, 1017, 1017, 1017, 1017, 1017, 1017, 1017, 1017, 1017, 1017, 1017, 208]\n",
      "peter picked peck \n",
      "peter picked a peck\n"
     ]
    },
    {
     "name": "stderr",
     "output_type": "stream",
     "text": [
      "  1%|▏         | 4/318 [00:55<1:11:28, 13.66s/it]"
     ]
    },
    {
     "name": "stdout",
     "output_type": "stream",
     "text": [
      "Phones:  ['', ' w eh r z ', ' dh iy ', ' p eh p er z ', '']\n",
      "best_out_sequence:  sil w eh r z sil dh iy sil p eh p er z sil\n",
      "best_state_sequence:  [-1, 0, 1, 1, 2, 2, 2, 2, 2, 2, 2, 2, 2, 2, 2, 2, 2, 2, 2, 2, 2, 2, 2, 2, 2, 2, 2, 2, 2, 2, 3, 3, 3, 3, 3, 3, 3, 3, 3, 3, 3, 3, 3, 3, 3, 3, 3, 3, 3, 3, 3, 3, 3, 3, 3, 3, 3, 3, 3, 3, 3, 3, 3, 3, 3, 3, 3, 3, 3, 3, 3, 3, 3, 3, 3, 3, 3, 3, 3, 3, 3, 3, 3, 3, 3, 3, 3, 3, 3, 3, 3, 3, 3, 3, 3, 3, 3, 3, 3, 3, 3, 3, 3, 3, 3, 3, 3, 3, 3, 3, 3, 3, 3, 3, 3, 3, 5, 10, 10, 10, 10, 10, 10, 10, 10, 10, 10, 10, 10, 10, 10, 10, 10, 21, 39, 39, 39, 39, 39, 39, 68, 114, 177, 177, 177, 177, 177, 177, 177, 177, 177, 261, 368, 487, 605, 605, 605, 605, 605, 605, 605, 605, 714, 812, 901, 254, 358, 358, 358, 358, 358, 470, 470, 470, 470, 470, 470, 470, 470, 590, 590, 590, 590, 590, 590, 590, 590, 590, 590, 590, 590, 697, 795, 795, 795, 795, 795, 795, 795, 795, 795, 795, 795, 795, 795, 795, 795, 795, 885, 885, 885, 885, 885, 885, 885, 885, 885, 885, 965, 965, 965, 965, 965, 965, 965, 965, 965, 965, 965, 965, 965, 965, 965, 965, 965, 965, 965, 965, 965, 965, 965, 965, 965, 965, 1030, 1030, 1030, 1030, 1030, 1030, 1030, 1030, 1030, 1030, 1030, 1030, 1030, 1030, 1030, 1030, 1030, 1030, 1030, 1030, 1030, 1030, 1030, 1030, 1030, 1030, 1030, 1030, 1030, 1030, 1030, 1030, 1030, 1030, 1030, 1030, 1030, 1030, 1030, 1030, 1030, 1030, 1030, 1030, 1030, 1030, 1030, 1030, 1030, 1030, 1030, 1030, 1030, 1030, 401]\n",
      "where's the peppers \n",
      "where's the peppers\n"
     ]
    },
    {
     "name": "stderr",
     "output_type": "stream",
     "text": [
      "  2%|▏         | 5/318 [01:10<1:14:38, 14.31s/it]"
     ]
    },
    {
     "name": "stdout",
     "output_type": "stream",
     "text": [
      "Phones:  ['', ' dh iy ', ' p ay p er ', ' p ih k ah l d ', ' p eh p er z ', '']\n",
      "best_out_sequence:  sil dh iy sil p ay p er sil p ih k ah l d sil p eh p er z sil\n",
      "best_state_sequence:  [-1, 0, 1, 2, 2, 2, 2, 2, 2, 2, 2, 2, 2, 2, 2, 2, 2, 2, 2, 2, 2, 2, 2, 2, 2, 2, 2, 2, 2, 2, 2, 2, 2, 2, 2, 2, 2, 2, 2, 2, 2, 2, 2, 2, 2, 2, 2, 2, 2, 2, 2, 2, 2, 2, 2, 2, 2, 2, 2, 2, 2, 2, 2, 2, 2, 2, 2, 2, 2, 2, 2, 2, 2, 3, 3, 5, 9, 20, 20, 20, 20, 20, 20, 20, 20, 20, 20, 20, 20, 20, 20, 20, 20, 20, 20, 20, 20, 20, 38, 67, 113, 254, 358, 358, 358, 358, 358, 358, 358, 358, 358, 358, 358, 473, 473, 473, 473, 473, 473, 473, 473, 473, 473, 473, 594, 594, 594, 594, 594, 594, 594, 594, 594, 594, 594, 594, 594, 594, 702, 800, 890, 463, 583, 583, 583, 583, 583, 583, 583, 583, 583, 583, 583, 689, 689, 689, 689, 689, 689, 788, 788, 788, 788, 788, 788, 788, 788, 879, 960, 960, 960, 960, 960, 960, 960, 960, 960, 960, 960, 1026, 1072, 1102, 663, 767, 767, 767, 767, 767, 767, 858, 940, 940, 940, 940, 940, 940, 940, 939, 939, 939, 939, 939, 939, 939, 939, 939, 939, 1008, 1056, 1056, 1056, 1056, 1056, 1056, 1056, 1056, 1056, 1056, 1056, 1056, 1056, 1056, 1056, 1056, 1056, 1092, 1092, 1092, 1092, 1092, 1092, 1092, 1092, 1092, 1092, 1092, 1108, 1108, 1108, 1108, 1108, 1108, 1108, 1108, 1108, 1108, 1108, 1108, 1108, 1108, 1108, 1118, 1118, 1118, 1118, 1118, 1118, 1118, 1118, 1118, 1118, 1118, 1118, 1118, 1118, 1118, 1118, 1118, 1118, 1118, 1118, 1118, 1118, 1118, 1118, 1118, 1118, 1118, 1118, 1118, 1118, 1118, 1118, 1118, 1118, 1118, 1118, 1118, 1118, 1118, 1118, 1118, 1118, 1118, 1118, 1118, 1118, 1118, 1118, 1118, 1118, 1118, 1118, 1118, 1118, 1118, 1118, 1118, 1118, 1118, 1118, 1118, 1118, 1118, 1118, 1118, 1118, 1118, 1118, 1118, 1118, 1118, 1118, 1118, 1118, 1118, 1118, 1118, 1118, 1118, 1118, 1118, 401]\n",
      "the piper pickled peppers \n",
      "the piper pickled peppers\n"
     ]
    },
    {
     "name": "stderr",
     "output_type": "stream",
     "text": [
      "  2%|▏         | 6/318 [01:39<1:40:10, 19.26s/it]"
     ]
    },
    {
     "name": "stdout",
     "output_type": "stream",
     "text": [
      "Phones:  ['', ' dh iy ', ' p ih k ah l d ', ' p ay p er ', ' p ih k ah l d ', ' p eh k ', ' ah v ', ' p ih k ah l d ', ' ey ', ' ah v ', '']\n",
      "best_out_sequence:  sil dh iy sil p ih k ah l d sil p ay p er sil p ih k ah l d sil p eh k sil ah v sil p ih k ah l d sil ey sil ah v sil\n",
      "best_state_sequence:  [-1, 0, 1, 1, 2, 2, 2, 2, 2, 2, 2, 2, 2, 2, 2, 2, 2, 2, 2, 2, 2, 2, 2, 2, 2, 2, 2, 2, 2, 2, 2, 2, 2, 2, 2, 2, 2, 2, 2, 2, 2, 2, 2, 2, 2, 2, 2, 2, 2, 2, 2, 2, 2, 2, 2, 2, 2, 2, 2, 2, 2, 2, 2, 2, 2, 2, 2, 2, 2, 2, 2, 2, 2, 2, 2, 2, 2, 2, 2, 2, 2, 2, 2, 2, 2, 2, 2, 2, 2, 2, 2, 2, 2, 2, 2, 2, 2, 2, 2, 2, 2, 2, 2, 2, 2, 2, 2, 2, 2, 2, 2, 2, 2, 2, 2, 2, 2, 2, 2, 2, 2, 2, 2, 2, 2, 2, 2, 2, 2, 2, 2, 2, 2, 2, 2, 2, 2, 2, 2, 2, 2, 2, 2, 2, 2, 2, 2, 2, 2, 2, 2, 2, 2, 2, 2, 2, 2, 2, 2, 2, 2, 2, 2, 2, 2, 2, 2, 2, 2, 2, 2, 2, 2, 2, 2, 2, 2, 2, 2, 2, 2, 2, 2, 2, 2, 2, 2, 2, 2, 2, 2, 2, 2, 2, 2, 3, 3, 3, 3, 3, 3, 3, 3, 3, 3, 3, 3, 3, 3, 3, 3, 5, 9, 20, 20, 20, 20, 20, 20, 20, 20, 20, 20, 38, 67, 112, 112, 112, 112, 112, 112, 112, 112, 174, 258, 258, 258, 258, 258, 258, 258, 258, 258, 258, 258, 258, 258, 258, 258, 258, 258, 258, 258, 258, 258, 258, 258, 258, 258, 258, 258, 258, 258, 254, 358, 472, 472, 472, 472, 472, 472, 472, 472, 472, 472, 472, 593, 700, 798, 888, 888, 888, 888, 888, 888, 888, 888, 888, 888, 888, 888, 888, 888, 888, 888, 888, 888, 967, 1031, 663, 767, 861, 861, 861, 861, 861, 861, 861, 861, 861, 861, 944, 1013, 1061, 1097, 1097, 1097, 1097, 1097, 1097, 1097, 1097, 1097, 1097, 463, 583, 689, 689, 689, 689, 689, 689, 689, 689, 689, 689, 689, 689, 689, 689, 689, 689, 689, 788, 879, 960, 960, 960, 960, 960, 960, 960, 960, 960, 960, 960, 960, 960, 960, 960, 960, 1026, 1072, 1072, 1102, 663, 767, 767, 767, 767, 767, 767, 858, 940, 940, 940, 940, 940, 940, 940, 940, 940, 940, 940, 940, 940, 941, 941, 941, 941, 941, 941, 941, 941, 941, 1009, 1057, 305, 418, 418, 529, 529, 529, 529, 529, 529, 529, 529, 529, 529, 529, 529, 529, 640, 744, 188, 279, 389, 389, 389, 389, 389, 389, 389, 389, 389, 505, 505, 505, 505, 505, 505, 505, 505, 621, 621, 728, 728, 728, 728, 728, 728, 728, 728, 823, 823, 823, 823, 823, 907, 983, 983, 663, 765, 765, 765, 765, 765, 765, 765, 765, 765, 765, 765, 765, 765, 765, 765, 765, 856, 856, 856, 856, 937, 120, 184, 184, 184, 184, 184, 184, 184, 184, 184, 268, 268, 268, 268, 268, 268, 375, 375, 375, 375, 375, 375, 375, 375, 375, 375, 375, 375, 375, 375, 375, 375, 375, 375, 375, 375, 375, 375, 375, 375, 375, 375, 375, 375, 375, 375, 375, 375, 375, 375, 375, 375, 375, 489, 489, 489, 489, 489, 489, 489, 489, 489, 489, 489, 489, 489, 489, 489, 489, 489, 489, 489, 489, 489, 489, 489, 489, 489, 489, 489, 489, 489, 489, 489, 489, 489, 489, 489, 489, 489, 489, 489, 489, 489, 489, 489, 489, 489, 489, 489, 489, 489, 489, 489, 489, 489, 489, 489, 489, 489, 489, 489, 489, 489, 489, 489, 489, 489, 489, 489, 489, 489, 489, 607, 607, 607, 607, 607, 607, 607, 607, 122]\n",
      "the pickled piper pickled peck of pickled a of \n",
      "peter piper picked a peck of pickled peppers\n"
     ]
    },
    {
     "name": "stderr",
     "output_type": "stream",
     "text": [
      "  2%|▏         | 7/318 [01:56<1:36:15, 18.57s/it]"
     ]
    },
    {
     "name": "stdout",
     "output_type": "stream",
     "text": [
      "Phones:  ['', ' dh iy ', ' p eh k ', ' p ih k ah l d ', ' p ih k ah l d ', ' p ih k t ', ' p ay p er ', ' p ih k t ', ' ey ', '']\n",
      "best_out_sequence:  sil dh iy sil p eh k sil p ih k ah l d sil p ih k ah l d sil p ih k t sil p ay p er sil p ih k t sil ey sil\n",
      "best_state_sequence:  [-1, 0, 1, 1, 2, 2, 2, 2, 2, 2, 2, 2, 2, 2, 2, 2, 2, 2, 2, 2, 2, 3, 3, 3, 3, 3, 3, 3, 3, 3, 3, 3, 3, 3, 3, 3, 3, 3, 3, 3, 3, 3, 3, 3, 3, 3, 3, 3, 3, 3, 3, 3, 3, 3, 3, 3, 3, 3, 3, 3, 3, 3, 3, 3, 3, 3, 3, 3, 3, 5, 9, 20, 20, 20, 20, 20, 20, 20, 20, 20, 20, 20, 20, 20, 20, 20, 38, 67, 113, 254, 358, 470, 470, 470, 470, 470, 470, 470, 470, 470, 470, 470, 470, 470, 591, 591, 591, 591, 591, 591, 591, 591, 591, 698, 796, 305, 419, 533, 644, 748, 840, 840, 840, 840, 840, 840, 840, 924, 995, 1048, 663, 767, 860, 860, 860, 860, 860, 860, 860, 860, 860, 860, 860, 860, 943, 943, 943, 943, 943, 943, 943, 943, 1011, 1059, 1059, 1059, 1059, 1059, 1059, 1059, 1059, 1059, 1059, 1059, 1059, 1059, 1059, 1059, 1059, 1059, 1059, 1059, 1059, 1059, 1059, 1059, 1059, 1059, 1059, 1059, 1059, 1059, 1059, 1059, 1059, 1059, 1059, 1059, 1059, 1059, 1059, 1059, 1059, 1059, 1059, 1059, 1059, 1059, 1059, 1095, 1110, 1119, 1119, 1119, 1119, 663, 767, 860, 860, 860, 860, 860, 860, 860, 860, 860, 860, 860, 860, 860, 943, 1012, 1012, 1012, 1012, 1012, 1012, 1012, 1012, 1060, 1060, 1096, 445, 564, 672, 672, 672, 672, 672, 672, 672, 672, 672, 672, 672, 672, 776, 871, 953, 953, 953, 953, 1021, 1021, 463, 583, 689, 689, 689, 689, 689, 689, 689, 689, 689, 689, 689, 689, 689, 689, 788, 788, 788, 788, 788, 788, 788, 788, 788, 788, 788, 880, 880, 880, 880, 880, 880, 880, 880, 880, 880, 880, 880, 880, 880, 880, 961, 961, 961, 961, 961, 961, 961, 961, 961, 961, 961, 961, 961, 961, 961, 961, 961, 961, 961, 961, 961, 961, 961, 1027, 1027, 1027, 1027, 1027, 1027, 1027, 1027, 1027, 1027, 1027, 1027, 1073, 1073, 1073, 1073, 1073, 1073, 1073, 1073, 1073, 1073, 1073, 445, 562, 667, 770, 770, 770, 770, 770, 770, 770, 770, 770, 770, 770, 770, 770, 770, 770, 770, 770, 770, 770, 770, 770, 770, 770, 770, 770, 770, 770, 864, 864, 74]\n",
      "the peck pickled pickled picked piper picked a \n",
      "a peck of pickled peppers peter piper picked\n"
     ]
    },
    {
     "name": "stderr",
     "output_type": "stream",
     "text": [
      "  3%|▎         | 8/318 [02:17<1:39:03, 19.17s/it]"
     ]
    },
    {
     "name": "stdout",
     "output_type": "stream",
     "text": [
      "Phones:  ['', ' p ih k t ', ' w eh r z ', ' ah v ', ' p eh k ', ' ah v ', ' p ih k ah l d ', ' p ih k t ', ' p eh p er z ', ' p ih k t ', ' p ay p er ', ' ey ', ' p eh k ', '']\n",
      "best_out_sequence:  sil p ih k t sil w eh r z sil ah v sil p eh k sil ah v sil p ih k ah l d sil p ih k t sil p eh p er z sil p ih k t sil p ay p er sil ey sil p eh k sil\n",
      "best_state_sequence:  [-1, 0, 1, 1, 1, 2, 2, 2, 2, 2, 2, 2, 2, 2, 2, 2, 2, 2, 2, 2, 2, 2, 2, 2, 2, 2, 3, 3, 3, 3, 3, 3, 3, 3, 3, 3, 3, 3, 3, 3, 3, 3, 3, 3, 3, 3, 3, 3, 3, 3, 3, 3, 3, 3, 3, 3, 3, 3, 3, 3, 3, 3, 3, 3, 5, 8, 17, 32, 58, 98, 153, 230, 230, 230, 230, 230, 230, 230, 230, 230, 230, 230, 230, 230, 230, 230, 230, 230, 230, 230, 230, 230, 230, 230, 230, 230, 230, 230, 230, 230, 230, 230, 230, 230, 230, 230, 230, 230, 230, 230, 230, 230, 230, 230, 230, 230, 230, 230, 230, 230, 230, 230, 230, 329, 444, 445, 566, 566, 566, 566, 566, 566, 566, 566, 566, 566, 566, 566, 566, 566, 566, 674, 674, 674, 778, 778, 778, 778, 778, 778, 778, 778, 778, 778, 873, 873, 873, 873, 873, 873, 873, 873, 873, 955, 1022, 487, 603, 709, 709, 709, 709, 709, 709, 805, 893, 188, 279, 387, 387, 387, 387, 387, 387, 387, 387, 387, 387, 503, 503, 503, 503, 503, 503, 503, 503, 503, 503, 503, 503, 619, 726, 305, 418, 418, 529, 529, 529, 529, 529, 529, 640, 744, 744, 744, 744, 744, 744, 744, 744, 744, 744, 188, 279, 279, 389, 389, 389, 389, 389, 389, 389, 505, 505, 505, 505, 505, 505, 505, 505, 621, 621, 621, 621, 728, 728, 728, 728, 728, 728, 728, 728, 823, 823, 823, 823, 907, 983, 663, 767, 860, 860, 860, 860, 860, 860, 860, 860, 860, 860, 860, 860, 860, 860, 860, 860, 860, 860, 943, 1012, 1012, 1012, 1012, 1012, 1012, 1012, 1012, 1012, 1012, 1060, 1096, 445, 564, 669, 669, 772, 866, 948, 948, 948, 948, 948, 948, 948, 948, 948, 948, 948, 948, 1016, 1064, 515, 630, 737, 737, 737, 737, 737, 737, 737, 737, 737, 737, 737, 737, 737, 737, 737, 832, 917, 917, 917, 917, 917, 989, 1044, 445, 564, 672, 672, 672, 672, 672, 672, 672, 672, 672, 672, 672, 672, 672, 672, 776, 871, 871, 871, 953, 953, 953, 1021, 463, 581, 581, 581, 581, 581, 581, 581, 581, 581, 581, 581, 581, 581, 685, 782, 120, 185, 269, 377, 377, 377, 377, 377, 377, 377, 377, 377, 377, 377, 377, 377, 492, 492, 492, 492, 492, 492, 492, 492, 492, 492, 492, 492, 492, 492, 492, 492, 492, 492, 492, 492, 492, 492, 492, 492, 492, 492, 609, 609, 609, 609, 609, 609, 609, 609, 609, 609, 609, 609, 609, 609, 609, 609, 609, 609, 718, 718, 718, 718, 718, 718, 718, 718, 208]\n",
      "picked where's of peck of pickled picked peppers picked piper a peck \n",
      "where's the peck of pickled peppers peter piper picked\n"
     ]
    },
    {
     "name": "stderr",
     "output_type": "stream",
     "text": [
      "  3%|▎         | 9/318 [02:37<1:40:36, 19.53s/it]"
     ]
    },
    {
     "name": "stdout",
     "output_type": "stream",
     "text": [
      "Phones:  ['', ' dh iy ', ' p iy t er ', ' p ih k t ', ' p eh k ', ' ah v ', ' p ih k ah l d ', ' p eh p er z ', '']\n",
      "best_out_sequence:  sil dh iy sil p iy t er sil p ih k t sil p eh k sil ah v sil p ih k ah l d sil p eh p er z sil\n",
      "best_state_sequence:  [-1, 0, 1, 1, 1, 2, 2, 2, 2, 2, 2, 2, 2, 2, 2, 2, 2, 2, 2, 2, 2, 3, 3, 3, 3, 3, 3, 3, 3, 3, 3, 5, 9, 20, 20, 20, 20, 20, 20, 20, 20, 38, 67, 113, 175, 175, 175, 175, 175, 175, 175, 175, 175, 175, 175, 175, 175, 175, 175, 175, 175, 175, 175, 175, 175, 175, 175, 175, 175, 175, 175, 175, 175, 175, 175, 175, 175, 175, 175, 175, 175, 175, 254, 358, 358, 358, 358, 358, 358, 358, 358, 358, 358, 358, 358, 358, 358, 358, 471, 471, 471, 471, 471, 471, 471, 471, 471, 471, 471, 471, 471, 471, 471, 471, 471, 471, 471, 592, 592, 592, 592, 592, 592, 592, 699, 699, 699, 699, 797, 887, 430, 546, 546, 546, 546, 546, 546, 546, 546, 546, 546, 546, 546, 546, 546, 546, 546, 657, 657, 657, 657, 657, 657, 657, 657, 761, 761, 761, 761, 761, 761, 761, 761, 761, 761, 852, 852, 852, 852, 852, 852, 852, 852, 933, 1003, 445, 564, 564, 564, 564, 564, 564, 564, 564, 564, 564, 564, 564, 564, 564, 564, 564, 669, 669, 669, 669, 669, 669, 669, 669, 669, 773, 773, 773, 773, 773, 773, 773, 773, 773, 773, 773, 773, 867, 949, 305, 418, 529, 529, 529, 529, 529, 529, 529, 529, 529, 529, 529, 529, 529, 529, 640, 744, 188, 279, 279, 279, 279, 279, 279, 279, 279, 279, 279, 389, 389, 389, 389, 389, 389, 389, 389, 505, 505, 505, 505, 505, 505, 505, 505, 505, 505, 621, 728, 728, 728, 728, 728, 728, 728, 728, 728, 823, 823, 823, 823, 823, 823, 823, 823, 823, 823, 907, 907, 907, 983, 663, 767, 767, 767, 767, 767, 767, 858, 940, 940, 940, 940, 940, 940, 940, 940, 939, 939, 939, 939, 939, 939, 939, 939, 939, 939, 939, 1008, 1008, 1008, 1056, 1056, 1056, 1056, 1056, 1056, 1056, 1056, 1056, 1056, 1056, 1056, 1056, 1056, 1056, 1056, 1056, 1056, 1092, 1092, 1092, 1092, 1092, 1092, 1092, 1092, 1092, 1108, 1108, 1108, 1108, 1108, 1108, 1108, 1108, 1108, 1108, 1108, 1108, 1108, 1108, 1108, 1108, 1108, 1108, 1108, 1108, 1108, 1108, 1108, 1108, 1108, 1108, 1108, 1108, 1108, 1108, 1108, 1108, 1108, 1108, 1108, 1108, 1108, 1108, 1108, 1108, 1108, 1108, 1108, 1108, 1108, 1108, 1108, 1108, 1108, 1108, 1108, 1108, 1108, 1108, 1108, 1108, 1108, 1108, 1108, 1108, 1108, 1108, 1108, 1108, 1108, 1108, 1108, 1108, 1108, 1108, 1108, 1108, 1108, 1108, 1108, 1108, 1118, 1118, 1118, 1118, 1118, 1118, 1118, 1118, 1118, 1118, 1118, 1118, 1118, 1118, 1118, 1118, 1118, 1118, 1118, 1118, 1118, 1118, 1118, 1118, 401]\n",
      "the peter picked peck of pickled peppers \n",
      "peter picked a peck of pickled peppers\n"
     ]
    },
    {
     "name": "stderr",
     "output_type": "stream",
     "text": [
      "  3%|▎         | 9/318 [02:55<1:40:38, 19.54s/it]"
     ]
    },
    {
     "name": "stdout",
     "output_type": "stream",
     "text": [
      "Phones:  ['', ' w eh r z ', ' dh iy ', ' p eh k ', ' p ih k ah l d ', ' w eh r z ', '']\n",
      "best_out_sequence:  sil w eh r z sil dh iy sil p eh k sil p ih k ah l d sil w eh r z sil\n",
      "best_state_sequence:  [-1, 0, 1, 1, 2, 2, 2, 2, 2, 2, 2, 2, 2, 2, 2, 2, 2, 2, 2, 2, 2, 2, 2, 2, 2, 2, 2, 2, 2, 2, 2, 2, 2, 2, 2, 2, 2, 2, 2, 2, 2, 2, 2, 2, 2, 2, 2, 2, 2, 2, 2, 2, 2, 2, 2, 2, 2, 2, 2, 2, 2, 5, 10, 10, 10, 10, 10, 10, 10, 10, 10, 10, 10, 10, 10, 10, 10, 10, 10, 10, 10, 10, 21, 39, 39, 39, 68, 114, 177, 177, 177, 177, 177, 177, 177, 177, 177, 177, 177, 177, 177, 177, 177, 177, 261, 368, 487, 605, 605, 605, 605, 605, 714, 812, 901, 254, 358, 358, 358, 358, 358, 358, 358, 358, 358, 358, 358, 358, 358, 470, 470, 470, 470, 470, 470, 470, 470, 470, 591, 591, 591, 591, 591, 591, 591, 591, 591, 591, 591, 698, 698, 698, 698, 698, 796, 796, 796, 796, 796, 796, 796, 796, 796, 796, 796, 796, 796, 305, 419, 533, 533, 533, 533, 533, 533, 533, 533, 533, 644, 644, 644, 644, 644, 644, 644, 644, 644, 644, 748, 840, 840, 840, 840, 840, 924, 924, 924, 924, 924, 924, 924, 995, 1048, 663, 769, 863, 863, 863, 863, 863, 863, 863, 863, 863, 863, 863, 863, 863, 863, 946, 946, 946, 946, 946, 946, 946, 946, 946, 946, 946, 946, 946, 946, 1015, 1015, 1015, 1015, 1015, 1015, 1015, 1015, 1015, 1015, 1015, 1015, 1015, 1063, 1098, 1098, 1098, 1098, 1098, 1098, 1098, 1098, 1098, 1098, 1098, 1098, 1098, 1098, 1098, 1098, 1098, 1098, 1098, 1098, 1098, 1098, 1098, 1098, 1098, 1098, 1098, 1098, 1098, 1098, 1098, 1098, 1098, 1098, 1098, 1098, 1098, 1098, 1098, 1098, 1098, 1098, 1098, 1098, 1098, 1098, 1098, 1098, 1098, 1098, 1098, 1098, 1098, 1098, 1098, 1098, 1098, 1098, 1098, 1098, 1098, 1098, 1098, 1098, 1098, 1098, 1098, 1098, 1098, 1098, 1098, 1098, 1098, 1098, 1098, 1098, 1098, 1098, 1098, 1098, 1098, 1098, 1098, 1098, 1098, 1098, 1098, 1098, 1113, 1113, 1113, 1113, 1113, 1113, 1113, 1113, 1113, 1113, 1113, 1113, 1113, 1113, 1113, 1113, 1113, 1113, 1113, 1113, 1113, 1113, 1113, 1113, 1113, 1113, 1113, 1113, 1113, 1113, 1113, 1113, 1113, 1113, 1113, 1113, 1113, 1113, 1113, 1113, 1113, 1113, 1113, 1113, 1113, 1113, 1113, 1113, 1113, 1113, 1113, 1113, 1113, 1113, 1113, 1113, 1113, 1113, 1113, 1113, 1113, 1113, 1113, 1113, 1113, 372]\n",
      "where's the peck pickled where's \n",
      "where's the peck of pickled peppers\n"
     ]
    },
    {
     "name": "stderr",
     "output_type": "stream",
     "text": [
      "\n"
     ]
    }
   ],
   "source": [
    "all_losses = []\n",
    "decoding_time = []\n",
    "backtrace_time = []\n",
    "number_of_computations = []\n",
    "i = 0\n",
    "train_split = int(0.85 * len(glob.glob('/group/teaching/asr/labs/recordings/*.wav')))  # replace path if using your own audio files\n",
    "print(train_split)\n",
    "\n",
    "all_transcriptions = ''\n",
    "for wav_file in tqdm(glob.glob('/group/teaching/asr/labs/recordings/*.wav')):    # replace path if using your own\n",
    "                                                                           # audio files\n",
    "    \n",
    "    decoder  = MyViterbiDecoder(f, wav_file, verbose=False, use_pruning=False, determinized=True, bigram = True)\n",
    "    decoder.decode()\n",
    "    (state_path, words) = decoder.backtrace()  \n",
    "    \n",
    "    transcription = read_transcription(wav_file)\n",
    "    all_transcriptions += transcription + ' '\n",
    "    error_counts = wer.compute_alignment_errors(transcription, words)\n",
    "    word_count = len(transcription.split())\n",
    "\n",
    "    all_losses.append((error_counts, word_count))\n",
    "    decoding_time.append(decoder.decode_time)\n",
    "    backtrace_time.append(decoder.backtrace_time)\n",
    "    number_of_computations.append(decoder.number_of_computiations)\n",
    "    print(words)\n",
    "    print(transcription)\n",
    "    i += 1\n",
    "    if i == 10:\n",
    "        break"
   ]
  },
  {
   "cell_type": "code",
   "execution_count": 7,
   "metadata": {},
   "outputs": [
    {
     "name": "stdout",
     "output_type": "stream",
     "text": [
      "The average WER is 33.11%\n"
     ]
    }
   ],
   "source": [
    "# calculate the WER fo each file\n",
    "import numpy as np\n",
    "all_wer = []\n",
    "for error_counts, word_count in all_losses:\n",
    "    all_wer.append(sum(error_counts) / word_count)\n",
    "\n",
    "\n",
    "\n",
    "print(f'The average WER is {np.mean(all_wer):.2%}')"
   ]
  },
  {
   "cell_type": "code",
   "execution_count": 8,
   "metadata": {},
   "outputs": [
    {
     "name": "stdout",
     "output_type": "stream",
     "text": [
      "The average decoding time is 16.74 seconds\n",
      "The average backtrace time is 0.00 seconds\n",
      "The average number of computations is 692255.00\n"
     ]
    }
   ],
   "source": [
    "#Print dcoding time statistics\n",
    "print(f'The average decoding time is {np.mean(decoding_time):.2f} seconds')\n",
    "print(f'The average backtrace time is {np.mean(backtrace_time):.2f} seconds')\n",
    "print(f'The average number of computations is {np.mean(number_of_computations):.2f}')\n",
    "\n"
   ]
  }
 ],
 "metadata": {
  "kernelspec": {
   "display_name": "Python 3 (ipykernel)",
   "language": "python",
   "name": "python3"
  },
  "language_info": {
   "codemirror_mode": {
    "name": "ipython",
    "version": 3
   },
   "file_extension": ".py",
   "mimetype": "text/x-python",
   "name": "python",
   "nbconvert_exporter": "python",
   "pygments_lexer": "ipython3",
   "version": "3.7.16"
  },
  "vscode": {
   "interpreter": {
    "hash": "8696358051874a88c1d2911df8bbed88795a658bdc69c38e8bd7d9488224210f"
   }
  }
 },
 "nbformat": 4,
 "nbformat_minor": 4
}
